{
 "cells": [
  {
   "cell_type": "code",
   "execution_count": 1,
   "id": "2f76c481-c8a9-49a3-b6b6-7fecdb41a915",
   "metadata": {},
   "outputs": [
    {
     "name": "stdin",
     "output_type": "stream",
     "text": [
      "Enter the year:  2025\n",
      "Enter the state:  Assam\n"
     ]
    },
    {
     "name": "stdout",
     "output_type": "stream",
     "text": [
      "The predicted annual rainfall for Assam in 2025 is: 2095.7149090800017 mm\n"
     ]
    }
   ],
   "source": [
    "import pandas as pd\n",
    "from sklearn.model_selection import train_test_split\n",
    "from sklearn.preprocessing import LabelEncoder\n",
    "from sklearn.ensemble import RandomForestRegressor\n",
    "\n",
    "# Load the dataset\n",
    "data = pd.read_csv('crop.csv')\n",
    "\n",
    "# Encode categorical variables\n",
    "label_encoders = {}\n",
    "for column in ['Crop', 'Season', 'State']:\n",
    "    le = LabelEncoder()\n",
    "    data[column] = le.fit_transform(data[column])\n",
    "    label_encoders[column] = le\n",
    "\n",
    "# Define features and target variable\n",
    "X = data.drop(columns=['Annual_Rainfall'])\n",
    "y = data['Annual_Rainfall']\n",
    "\n",
    "# Split the data into training and testing sets (80% train, 20% test)\n",
    "X_train, X_test, y_train, y_test = train_test_split(X, y, test_size=0.2, random_state=42)\n",
    "\n",
    "# Initialize and train the Random Forest Regressor\n",
    "rf_model = RandomForestRegressor(n_estimators=100, random_state=42)\n",
    "rf_model.fit(X_train, y_train)\n",
    "\n",
    "# Function to predict rainfall based on user input\n",
    "def predict_rainfall(year, state):\n",
    "    # Assuming you want to use the average values for other columns\n",
    "    crop_encoded = X['Crop'].mode()[0]  # Most frequent crop\n",
    "    season_encoded = X['Season'].mode()[0]  # Most frequent season\n",
    "    area_mean = X['Area'].mean()  # Mean area\n",
    "    production_mean = X['Production'].mean()  # Mean production\n",
    "    fertilizer_mean = X['Fertilizer'].mean()  # Mean fertilizer usage\n",
    "    pesticide_mean = X['Pesticide'].mean()  # Mean pesticide usage\n",
    "    yield_mean = X['Yield'].mean()  # Mean yield\n",
    "\n",
    "    state_encoded = label_encoders['State'].transform([state])[0]\n",
    "\n",
    "    # Create a dataframe with the inputs\n",
    "    input_data = pd.DataFrame({\n",
    "        'Crop': [crop_encoded],\n",
    "        'Crop_Year': [year],\n",
    "        'Season': [season_encoded],\n",
    "        'State': [state_encoded],\n",
    "        'Area': [area_mean],\n",
    "        'Production': [production_mean],\n",
    "        'Fertilizer': [fertilizer_mean],\n",
    "        'Pesticide': [pesticide_mean],\n",
    "        'Yield': [yield_mean]\n",
    "    })\n",
    "\n",
    "    # Predict the annual rainfall\n",
    "    predicted_rainfall = rf_model.predict(input_data)[0]\n",
    "    return predicted_rainfall\n",
    "\n",
    "# Take user input for the year and state\n",
    "year = int(input(\"Enter the year: \"))\n",
    "state = input(\"Enter the state: \")\n",
    "\n",
    "# Predict the annual rainfall\n",
    "predicted_rainfall = predict_rainfall(year, state)\n",
    "print(f\"The predicted annual rainfall for {state} in {year} is: {predicted_rainfall} mm\")\n"
   ]
  },
  {
   "cell_type": "code",
   "execution_count": null,
   "id": "a99a2dc8-f61b-41ed-9f50-86fde9cb2072",
   "metadata": {},
   "outputs": [],
   "source": []
  }
 ],
 "metadata": {
  "kernelspec": {
   "display_name": "Python 3 (ipykernel)",
   "language": "python",
   "name": "python3"
  },
  "language_info": {
   "codemirror_mode": {
    "name": "ipython",
    "version": 3
   },
   "file_extension": ".py",
   "mimetype": "text/x-python",
   "name": "python",
   "nbconvert_exporter": "python",
   "pygments_lexer": "ipython3",
   "version": "3.12.3"
  }
 },
 "nbformat": 4,
 "nbformat_minor": 5
}
